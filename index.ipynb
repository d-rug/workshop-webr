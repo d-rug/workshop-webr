{
  "cells": [
    {
      "cell_type": "raw",
      "metadata": {},
      "source": [
        "---\n",
        "title: \"Overview\"\n",
        "format:\n",
        "  html:\n",
        "    theme: cosmo\n",
        "    \n",
        "webr:\n",
        "  packages: ['ggplot2', 'dplyr']\n",
        "---"
      ],
      "id": "1fe23c2c"
    },
    {
      "cell_type": "markdown",
      "metadata": {},
      "source": [
        "{{< include _webr-include.qmd >}}\n",
        "\n",
        "\n",
        "# Overview {.unnumbered}\n",
        "\n",
        "\n",
        "\n",
        "## WebR example\n",
        "\n",
        "```{webr}\n",
        "summary( mtcars )\n",
        "```"
      ],
      "id": "c70f32bd"
    }
  ],
  "metadata": {
    "kernelspec": {
      "display_name": "Python 3",
      "language": "python",
      "name": "python3"
    }
  },
  "nbformat": 4,
  "nbformat_minor": 5
}