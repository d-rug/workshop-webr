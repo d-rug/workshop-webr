{
  "cells": [
    {
      "cell_type": "raw",
      "metadata": {},
      "source": [
        "---\n",
        "title: \"Overview\"\n",
        "format:\n",
        "  html:\n",
        "    theme: cosmo\n",
        "    \n",
        "webr:\n",
        "  packages: ['ggplot2', 'dplyr']\n",
        "---"
      ],
      "id": "d6803dfd"
    },
    {
      "cell_type": "markdown",
      "metadata": {},
      "source": [
        "{{< include _webr-include.qmd >}}\n",
        "\n",
        "\n",
        "# Overview {.unnumbered}\n",
        "\n",
        "\n",
        "\n",
        "## WebR example\n",
        "\n",
        "```{webr}\n",
        "penguins = read.csv(\"data/penguins.csv\")\n",
        "```\n",
        "\n",
        "<button id=\"upload-file\" disabled onclick=\"document.getElementById('input-upload').click();\" style=\"flex: 1\">Upload File</button>\n",
        "                            <input id=\"input-upload\" type=\"file\" style=\"display: none\"/>\n",
        "                            <button id=\"download-file\" disabled style=\"flex: 1\">Download File</button>\n",
        "\n",
        "\n",
        "```{webr}\n",
        "summary( penguins )\n",
        "```"
      ],
      "id": "606c8f2c"
    }
  ],
  "metadata": {
    "kernelspec": {
      "display_name": "Python 3",
      "language": "python",
      "name": "python3"
    }
  },
  "nbformat": 4,
  "nbformat_minor": 5
}