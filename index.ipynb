{
  "cells": [
    {
      "cell_type": "raw",
      "metadata": {},
      "source": [
        "---\n",
        "title: \"Overview\"\n",
        "format:\n",
        "  html:\n",
        "    theme: cosmo\n",
        "    \n",
        "webr:\n",
        "  packages: ['ggplot2', 'dplyr']\n",
        "---"
      ],
      "id": "00588bad"
    },
    {
      "cell_type": "markdown",
      "metadata": {},
      "source": [
        "{{< include _webr-include.qmd >}}\n",
        "\n",
        "\n",
        "# Overview {.unnumbered}\n",
        "\n",
        "[WebR](https://r-wasm.org) is a tool that lets you run R code in the browser *on the client side*. You may know that Web browsers only know three languages: `html`, `css`, and `javascript`. So, WebR is a port of the R source code to javascript. This is accomplished by some tools (beyond the scope of this presentation) that automatically convert C code to an intermediate language called `WebAssembly`.\n",
        "\n",
        "WebR is *very* new (the first release was in March 2023) ao there are still rough edges. But it works pretty smoothly with Quarto, which is how we build these workshop websites.\n",
        "\n",
        "Anyway, the upshot is that these workshop sites can now be interactive! Rather than copying code from the site and pasting it into R, we can now run the code directly in the site. Let's look at an example:\n",
        "\n",
        "## WebR example\n",
        "This example will show off some basic R functions. First, let's read in some data.\n",
        "\n",
        "```{webr}\n",
        "penguins = read.csv(\"https://d-rug.github.io/workshop-webr/data/penguins.csv\")\n",
        "```\n",
        "\n",
        "I've loaded data directly from a web address. Your computer's file system is not visible to WebR (for security, websites aren't allowed to see files on your computer). So you must either load data directly from the web, or upload your data to a virtual file system that I haven't yet figured out (reminder that WebR is very new).\n",
        "\n",
        "```{webr}\n",
        "summary( penguins )\n",
        "```\n",
        "\n",
        "Data is maintained between chunks.\n",
        "\n",
        "```{webr}\n",
        "# make a linear regression model and sumarize the result\n",
        "peng_model = lm( flipper_length_mm ~ bill_length_mm*species, data=penguins)\n",
        "summary(peng_model)\n",
        "```\n",
        "\n",
        "Just link any R installation, the base functions are available immediately. Using functions from packages requires installing and loading the packages first, and the package installations system is unique (for the same reason as the file system is unique - your browser isn't allowed to see most files on your computer). Installing packages via `webr::install()` works, but it is slower than you're used to.\n",
        "\n",
        "```{webr}\n",
        "# try making a nicely formatted table\n",
        "\n",
        "knitr::kable()\n",
        "```\n",
        "\n",
        "```{webr}\n",
        "webr::install(\"ggplot2\")\n",
        "library(ggplot2)\n",
        "ggplot( penguins ) +\n",
        "  aes(x=bill_length_mm, y=flipper_length_mm, color=species, shape=species) +\n",
        "  geom_point() +\n",
        "  geom_smooth(method=)\n",
        "```"
      ],
      "id": "ee5630a1"
    }
  ],
  "metadata": {
    "kernelspec": {
      "display_name": "Python 3",
      "language": "python",
      "name": "python3"
    }
  },
  "nbformat": 4,
  "nbformat_minor": 5
}