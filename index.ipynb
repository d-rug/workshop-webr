{
  "cells": [
    {
      "cell_type": "raw",
      "metadata": {},
      "source": [
        "---\n",
        "title: \"Overview\"\n",
        "format:\n",
        "  html:\n",
        "    theme: cosmo\n",
        "    \n",
        "webr:\n",
        "  packages: ['ggplot2', 'dplyr']\n",
        "---"
      ],
      "id": "bc0ddabc"
    },
    {
      "cell_type": "markdown",
      "metadata": {},
      "source": [
        "{{< include _webr-include.qmd >}}\n",
        "\n",
        "\n",
        "# Overview {.unnumbered}\n",
        "\n",
        "\n",
        "\n",
        "## WebR example\n",
        "\n",
        "```{webr}\n",
        "penguins = read.csv(\"data/penguins.csv\")\n",
        "```\n",
        "\n",
        "\n",
        "\n",
        "```{webr}\n",
        "summary( penguins )\n",
        "```"
      ],
      "id": "a6a996e9"
    }
  ],
  "metadata": {
    "kernelspec": {
      "display_name": "Python 3",
      "language": "python",
      "name": "python3"
    }
  },
  "nbformat": 4,
  "nbformat_minor": 5
}